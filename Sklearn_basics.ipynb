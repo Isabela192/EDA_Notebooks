{
  "nbformat": 4,
  "nbformat_minor": 0,
  "metadata": {
    "colab": {
      "name": "Untitled",
      "provenance": [],
      "collapsed_sections": [],
      "authorship_tag": "ABX9TyPV7AqIOrUvXHw/2Pz8wFA6",
      "include_colab_link": true
    },
    "kernelspec": {
      "name": "python3",
      "display_name": "Python 3"
    }
  },
  "cells": [
    {
      "cell_type": "markdown",
      "metadata": {
        "id": "view-in-github",
        "colab_type": "text"
      },
      "source": [
        "<a href=\"https://colab.research.google.com/github/Isabela192/Playing-with-data/blob/master/Sklearn_basics.ipynb\" target=\"_parent\"><img src=\"https://colab.research.google.com/assets/colab-badge.svg\" alt=\"Open In Colab\"/></a>"
      ]
    },
    {
      "cell_type": "code",
      "metadata": {
        "id": "1jSGy2ka4-g4",
        "colab_type": "code",
        "colab": {}
      },
      "source": [
        "# I'm following this tutorial: https://www.dataquest.io/blog/sci-kit-learn-tutorial/\n",
        "import pandas as pd\n",
        "import matplotlib.pyplot as plt\n",
        "import seaborn as sns\n",
        "import numpy as np\n",
        "sns.set(style='darkgrid', color_codes='True', rc={'figure.figsize':(11.7,8.27)})"
      ],
      "execution_count": 0,
      "outputs": []
    },
    {
      "cell_type": "code",
      "metadata": {
        "id": "AoyQFZ5LGV3k",
        "colab_type": "code",
        "outputId": "567997f8-2f47-4acf-e9fe-95668de3effb",
        "colab": {
          "base_uri": "https://localhost:8080/",
          "height": 394
        }
      },
      "source": [
        "Watson_data='https://raw.githubusercontent.com/vkrit/data-science-class/master/WA_Fn-UseC_-Sales-Win-Loss.csv'\n",
        "sales_data=pd.read_csv(Watson_data) \n",
        "sales_data.head(n=5)"
      ],
      "execution_count": 0,
      "outputs": [
        {
          "output_type": "execute_result",
          "data": {
            "text/html": [
              "<div>\n",
              "<style scoped>\n",
              "    .dataframe tbody tr th:only-of-type {\n",
              "        vertical-align: middle;\n",
              "    }\n",
              "\n",
              "    .dataframe tbody tr th {\n",
              "        vertical-align: top;\n",
              "    }\n",
              "\n",
              "    .dataframe thead th {\n",
              "        text-align: right;\n",
              "    }\n",
              "</style>\n",
              "<table border=\"1\" class=\"dataframe\">\n",
              "  <thead>\n",
              "    <tr style=\"text-align: right;\">\n",
              "      <th></th>\n",
              "      <th>Opportunity Number</th>\n",
              "      <th>Supplies Subgroup</th>\n",
              "      <th>Supplies Group</th>\n",
              "      <th>Region</th>\n",
              "      <th>Route To Market</th>\n",
              "      <th>Elapsed Days In Sales Stage</th>\n",
              "      <th>Opportunity Result</th>\n",
              "      <th>Sales Stage Change Count</th>\n",
              "      <th>Total Days Identified Through Closing</th>\n",
              "      <th>Total Days Identified Through Qualified</th>\n",
              "      <th>Opportunity Amount USD</th>\n",
              "      <th>Client Size By Revenue</th>\n",
              "      <th>Client Size By Employee Count</th>\n",
              "      <th>Revenue From Client Past Two Years</th>\n",
              "      <th>Competitor Type</th>\n",
              "      <th>Ratio Days Identified To Total Days</th>\n",
              "      <th>Ratio Days Validated To Total Days</th>\n",
              "      <th>Ratio Days Qualified To Total Days</th>\n",
              "      <th>Deal Size Category</th>\n",
              "    </tr>\n",
              "  </thead>\n",
              "  <tbody>\n",
              "    <tr>\n",
              "      <th>0</th>\n",
              "      <td>1641984</td>\n",
              "      <td>Exterior Accessories</td>\n",
              "      <td>Car Accessories</td>\n",
              "      <td>Northwest</td>\n",
              "      <td>Fields Sales</td>\n",
              "      <td>76</td>\n",
              "      <td>Won</td>\n",
              "      <td>13</td>\n",
              "      <td>104</td>\n",
              "      <td>101</td>\n",
              "      <td>0</td>\n",
              "      <td>5</td>\n",
              "      <td>5</td>\n",
              "      <td>0</td>\n",
              "      <td>Unknown</td>\n",
              "      <td>0.69636</td>\n",
              "      <td>0.113985</td>\n",
              "      <td>0.154215</td>\n",
              "      <td>1</td>\n",
              "    </tr>\n",
              "    <tr>\n",
              "      <th>1</th>\n",
              "      <td>1658010</td>\n",
              "      <td>Exterior Accessories</td>\n",
              "      <td>Car Accessories</td>\n",
              "      <td>Pacific</td>\n",
              "      <td>Reseller</td>\n",
              "      <td>63</td>\n",
              "      <td>Loss</td>\n",
              "      <td>2</td>\n",
              "      <td>163</td>\n",
              "      <td>163</td>\n",
              "      <td>0</td>\n",
              "      <td>3</td>\n",
              "      <td>5</td>\n",
              "      <td>0</td>\n",
              "      <td>Unknown</td>\n",
              "      <td>0.00000</td>\n",
              "      <td>1.000000</td>\n",
              "      <td>0.000000</td>\n",
              "      <td>1</td>\n",
              "    </tr>\n",
              "    <tr>\n",
              "      <th>2</th>\n",
              "      <td>1674737</td>\n",
              "      <td>Motorcycle Parts</td>\n",
              "      <td>Performance &amp; Non-auto</td>\n",
              "      <td>Pacific</td>\n",
              "      <td>Reseller</td>\n",
              "      <td>24</td>\n",
              "      <td>Won</td>\n",
              "      <td>7</td>\n",
              "      <td>82</td>\n",
              "      <td>82</td>\n",
              "      <td>7750</td>\n",
              "      <td>1</td>\n",
              "      <td>1</td>\n",
              "      <td>0</td>\n",
              "      <td>Unknown</td>\n",
              "      <td>1.00000</td>\n",
              "      <td>0.000000</td>\n",
              "      <td>0.000000</td>\n",
              "      <td>1</td>\n",
              "    </tr>\n",
              "    <tr>\n",
              "      <th>3</th>\n",
              "      <td>1675224</td>\n",
              "      <td>Shelters &amp; RV</td>\n",
              "      <td>Performance &amp; Non-auto</td>\n",
              "      <td>Midwest</td>\n",
              "      <td>Reseller</td>\n",
              "      <td>16</td>\n",
              "      <td>Loss</td>\n",
              "      <td>5</td>\n",
              "      <td>124</td>\n",
              "      <td>124</td>\n",
              "      <td>0</td>\n",
              "      <td>1</td>\n",
              "      <td>1</td>\n",
              "      <td>0</td>\n",
              "      <td>Known</td>\n",
              "      <td>1.00000</td>\n",
              "      <td>0.000000</td>\n",
              "      <td>0.000000</td>\n",
              "      <td>1</td>\n",
              "    </tr>\n",
              "    <tr>\n",
              "      <th>4</th>\n",
              "      <td>1689785</td>\n",
              "      <td>Exterior Accessories</td>\n",
              "      <td>Car Accessories</td>\n",
              "      <td>Pacific</td>\n",
              "      <td>Reseller</td>\n",
              "      <td>69</td>\n",
              "      <td>Loss</td>\n",
              "      <td>11</td>\n",
              "      <td>91</td>\n",
              "      <td>13</td>\n",
              "      <td>69756</td>\n",
              "      <td>1</td>\n",
              "      <td>1</td>\n",
              "      <td>0</td>\n",
              "      <td>Unknown</td>\n",
              "      <td>0.00000</td>\n",
              "      <td>0.141125</td>\n",
              "      <td>0.000000</td>\n",
              "      <td>4</td>\n",
              "    </tr>\n",
              "  </tbody>\n",
              "</table>\n",
              "</div>"
            ],
            "text/plain": [
              "   Opportunity Number  ... Deal Size Category\n",
              "0             1641984  ...                  1\n",
              "1             1658010  ...                  1\n",
              "2             1674737  ...                  1\n",
              "3             1675224  ...                  1\n",
              "4             1689785  ...                  4\n",
              "\n",
              "[5 rows x 19 columns]"
            ]
          },
          "metadata": {
            "tags": []
          },
          "execution_count": 33
        }
      ]
    },
    {
      "cell_type": "code",
      "metadata": {
        "id": "OqoD1vZ-JDv7",
        "colab_type": "code",
        "outputId": "41f8392e-9740-41c3-97cc-86cf4d68e782",
        "colab": {
          "base_uri": "https://localhost:8080/",
          "height": 535
        }
      },
      "source": [
        "sns.countplot('Route To Market', data=sales_data, hue='Opportunity Result', palette='tab10')"
      ],
      "execution_count": 0,
      "outputs": [
        {
          "output_type": "execute_result",
          "data": {
            "text/plain": [
              "<matplotlib.axes._subplots.AxesSubplot at 0x7f9db9f07be0>"
            ]
          },
          "metadata": {
            "tags": []
          },
          "execution_count": 30
        },
        {
          "output_type": "display_data",
          "data": {
            "image/png": "[encoded data removed]",
            "text/plain": [
              "<Figure size 842.4x595.44 with 1 Axes>"
            ]
          },
          "metadata": {
            "tags": []
          }
        }
      ]
    },
    {
      "cell_type": "code",
      "metadata": {
        "id": "viMJAFJsNYIR",
        "colab_type": "code",
        "colab": {}
      },
      "source": [
        "# Scikit-learn only understands numerical data\n",
        "from sklearn import preprocessing\n",
        "from sklearn.model_selection import train_test_split\n",
        "from sklearn.naive_bayes import GaussianNB\n",
        "from sklearn.metrics import accuracy_score\n",
        "from sklearn.svm import LinearSVC\n",
        "from sklearn.metrics import accuracy_score\n",
        "from sklearn.neighbors import KNeighborsClassifier\n",
        "from sklearn.metrics import accuracy_score\n",
        "from yellowbrick.classifier import ClassificationReport"
      ],
      "execution_count": 0,
      "outputs": []
    },
    {
      "cell_type": "code",
      "metadata": {
        "id": "LUtPlJjyOM-a",
        "colab_type": "code",
        "outputId": "d7a413d4-5c80-402e-886b-ce1720809f6f",
        "colab": {
          "base_uri": "https://localhost:8080/",
          "height": 215
        }
      },
      "source": [
        "print(\"Supplies Subgroup: \", sales_data['Supplies Subgroup'].unique())\n",
        "print(\"Region : \",sales_data['Region'].unique())\n",
        "print(\"Route To Market : \",sales_data['Route To Market'].unique())\n",
        "print(\"Opportunity Result : \",sales_data['Opportunity Result'].unique())\n",
        "print(\"Competitor Type : \",sales_data['Competitor Type'].unique())\n",
        "print(\"'Supplies Group : \",sales_data['Supplies Group'].unique())\n"
      ],
      "execution_count": 0,
      "outputs": [
        {
          "output_type": "stream",
          "text": [
            "Supplies Subgroup:  ['Exterior Accessories' 'Motorcycle Parts' 'Shelters & RV'\n",
            " 'Garage & Car Care' 'Batteries & Accessories' 'Performance Parts'\n",
            " 'Towing & Hitches' 'Replacement Parts' 'Tires & Wheels'\n",
            " 'Interior Accessories' 'Car Electronics']\n",
            "Region :  ['Northwest' 'Pacific' 'Midwest' 'Southwest' 'Mid-Atlantic' 'Northeast'\n",
            " 'Southeast']\n",
            "Route To Market :  ['Fields Sales' 'Reseller' 'Other' 'Telesales' 'Telecoverage']\n",
            "Opportunity Result :  ['Won' 'Loss']\n",
            "Competitor Type :  ['Unknown' 'Known' 'None']\n",
            "'Supplies Group :  ['Car Accessories' 'Performance & Non-auto' 'Tires & Wheels'\n",
            " 'Car Electronics']\n"
          ],
          "name": "stdout"
        }
      ]
    },
    {
      "cell_type": "code",
      "metadata": {
        "id": "-X5aKRmmQa9F",
        "colab_type": "code",
        "outputId": "3244e0c0-21bb-4b41-bed5-80498cce04aa",
        "colab": {
          "base_uri": "https://localhost:8080/",
          "height": 35
        }
      },
      "source": [
        ""
      ],
      "execution_count": 0,
      "outputs": [
        {
          "output_type": "stream",
          "text": [
            "Pretty printing has been turned ON\n"
          ],
          "name": "stdout"
        }
      ]
    }
  ]
}