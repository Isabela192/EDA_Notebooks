{
  "nbformat": 4,
  "nbformat_minor": 0,
  "metadata": {
    "colab": {
      "name": "Pokemon_EDA.ipynb",
      "private_outputs": true,
      "provenance": [],
      "collapsed_sections": [],
      "mount_file_id": "1RWT-at5JWoi-q_4sHeGCqwj53f3J9qZa",
      "authorship_tag": "ABX9TyMg1W8pHGEPaOR62o7PKxyY",
      "include_colab_link": true
    },
    "kernelspec": {
      "name": "python3",
      "display_name": "Python 3"
    },
    "language_info": {
      "name": "python"
    }
  },
  "cells": [
    {
      "cell_type": "markdown",
      "metadata": {
        "id": "view-in-github",
        "colab_type": "text"
      },
      "source": [
        "<a href=\"https://colab.research.google.com/github/Isabela192/EDA_Notebooks/blob/master/Pokemon_EDA.ipynb\" target=\"_parent\"><img src=\"https://colab.research.google.com/assets/colab-badge.svg\" alt=\"Open In Colab\"/></a>"
      ]
    },
    {
      "cell_type": "code",
      "metadata": {
        "id": "BMDCRR7TjBVi"
      },
      "source": [
        "import pandas as pd\n",
        "import sqlalchemy as db\n",
        "from sqlalchemy.orm import sessionmaker\n",
        "import plotly.graph_objects as go\n",
        "import plotly.express as px"
      ],
      "execution_count": null,
      "outputs": []
    },
    {
      "cell_type": "code",
      "metadata": {
        "id": "kihe9Lk1jkh8"
      },
      "source": [
        "engine = db.create_engine('sqlite://')\n",
        "data_url = 'https://raw.githubusercontent.com/Isabela192/Pokedex/master/pokedex_data/Pokemon_cleaned.csv'\n",
        "df = pd.read_csv(data_url)\n",
        "df.to_sql(name='pokemon', con=engine, if_exists='replace')"
      ],
      "execution_count": null,
      "outputs": []
    },
    {
      "cell_type": "code",
      "metadata": {
        "id": "yHr-NleTl1fE"
      },
      "source": [
        "Session=sessionmaker(bind=engine)\n",
        "session=Session()\n",
        "meta=db.MetaData(engine)\n",
        "\n",
        "pokemon=db.Table('pokemon', meta, autoload=True)"
      ],
      "execution_count": null,
      "outputs": []
    },
    {
      "cell_type": "code",
      "metadata": {
        "id": "iq2403qGmJV0"
      },
      "source": [
        ""
      ],
      "execution_count": null,
      "outputs": []
    }
  ]
}