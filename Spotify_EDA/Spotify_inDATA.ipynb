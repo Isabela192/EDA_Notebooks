{
 "cells": [
  {
   "cell_type": "markdown",
   "id": "f4403e9b",
   "metadata": {},
   "source": [
    "# What am I listening on Spotify?"
   ]
  },
  {
   "cell_type": "code",
   "execution_count": 1,
   "id": "ab4da03e",
   "metadata": {},
   "outputs": [],
   "source": [
    "import requests\n",
    "import json\n",
    "import pandas as pd\n",
    "import mitosheet\n",
    "import numpy as np\n",
    "import plotly.express as px"
   ]
  },
  {
   "cell_type": "code",
   "execution_count": 12,
   "id": "1f2598cd",
   "metadata": {},
   "outputs": [
    {
     "data": {
      "application/vnd.jupyter.widget-view+json": {
       "model_id": "ca489ebbad8447f5a525ba16b7a6b62a",
       "version_major": 2,
       "version_minor": 0
      },
      "text/plain": [
       "MitoWidget(analysis_data_json='{\"analysisName\": \"UUID-a3becbb1-a247-4feb-96b5-7a85b25c319e\", \"code\": {\"imports…"
      ]
     },
     "metadata": {},
     "output_type": "display_data"
    }
   ],
   "source": [
    "df_streaming = pd.read_json('MyData/StreamingHistory0.json')\n",
    "df_streaming['Unique_ID'] = df_streaming['artistName'] + ':' + df_streaming['trackName']\n",
    "\n",
    "df_track = pd.read_json('MyData/tracks.json')\n",
    "df_track['Unique_ID'] = df_track['artist'] + ':' + df_track['track']\n",
    "df_track['new_uri'] = df_track['uri'].str.split('spotify:').str[1]\n",
    "\n",
    "mitosheet.sheet(df_streaming)"
   ]
  },
  {
   "cell_type": "code",
   "execution_count": 10,
   "id": "c6236b40",
   "metadata": {},
   "outputs": [
    {
     "data": {
      "text/html": [
       "<div><div id=2e59b5e4-ce8e-4f19-bf8d-2b37390066cb style=\"display:none; background-color:#9D6CFF; color:white; width:200px; height:30px; padding-left:5px; border-radius:4px; flex-direction:row; justify-content:space-around; align-items:center;\" onmouseover=\"this.style.backgroundColor='#BA9BF8'\" onmouseout=\"this.style.backgroundColor='#9D6CFF'\" onclick=\"window.commands?.execute('create-mitosheet-from-dataframe-output');\">Open in Mito</div> <script> if (window.commands.hasCommand('create-mitosheet-from-dataframe-output')) document.getElementById('2e59b5e4-ce8e-4f19-bf8d-2b37390066cb').style.display = 'flex' </script> <table border=\"1\" class=\"dataframe\">\n",
       "  <thead>\n",
       "    <tr style=\"text-align: right;\">\n",
       "      <th></th>\n",
       "      <th>endTime</th>\n",
       "      <th>artistName</th>\n",
       "      <th>trackName</th>\n",
       "      <th>msPlayed</th>\n",
       "      <th>Unique_ID</th>\n",
       "    </tr>\n",
       "  </thead>\n",
       "  <tbody>\n",
       "    <tr>\n",
       "      <th>3431</th>\n",
       "      <td>2021-09-21 20:23</td>\n",
       "      <td>Green Day</td>\n",
       "      <td>Holiday / Boulevard of Broken Dreams</td>\n",
       "      <td>144139</td>\n",
       "      <td>Green Day:Holiday / Boulevard of Broken Dreams</td>\n",
       "    </tr>\n",
       "    <tr>\n",
       "      <th>3432</th>\n",
       "      <td>2021-09-21 22:24</td>\n",
       "      <td>Green Day</td>\n",
       "      <td>Holiday / Boulevard of Broken Dreams</td>\n",
       "      <td>349221</td>\n",
       "      <td>Green Day:Holiday / Boulevard of Broken Dreams</td>\n",
       "    </tr>\n",
       "    <tr>\n",
       "      <th>3433</th>\n",
       "      <td>2021-09-21 22:30</td>\n",
       "      <td>Green Day</td>\n",
       "      <td>Are We the Waiting / St. Jimmy</td>\n",
       "      <td>338130</td>\n",
       "      <td>Green Day:Are We the Waiting / St. Jimmy</td>\n",
       "    </tr>\n",
       "    <tr>\n",
       "      <th>3434</th>\n",
       "      <td>2021-09-21 22:35</td>\n",
       "      <td>Green Day</td>\n",
       "      <td>Give Me Novacaine / She's a Rebel</td>\n",
       "      <td>326148</td>\n",
       "      <td>Green Day:Give Me Novacaine / She's a Rebel</td>\n",
       "    </tr>\n",
       "    <tr>\n",
       "      <th>3435</th>\n",
       "      <td>2021-09-21 22:53</td>\n",
       "      <td>Green Day</td>\n",
       "      <td>Extraordinary Girl / Letterbomb</td>\n",
       "      <td>436779</td>\n",
       "      <td>Green Day:Extraordinary Girl / Letterbomb</td>\n",
       "    </tr>\n",
       "  </tbody>\n",
       "</table></div>"
      ],
      "text/plain": [
       "               endTime artistName                             trackName  \\\n",
       "3431  2021-09-21 20:23  Green Day  Holiday / Boulevard of Broken Dreams   \n",
       "3432  2021-09-21 22:24  Green Day  Holiday / Boulevard of Broken Dreams   \n",
       "3433  2021-09-21 22:30  Green Day        Are We the Waiting / St. Jimmy   \n",
       "3434  2021-09-21 22:35  Green Day     Give Me Novacaine / She's a Rebel   \n",
       "3435  2021-09-21 22:53  Green Day       Extraordinary Girl / Letterbomb   \n",
       "\n",
       "      msPlayed                                       Unique_ID  \n",
       "3431    144139  Green Day:Holiday / Boulevard of Broken Dreams  \n",
       "3432    349221  Green Day:Holiday / Boulevard of Broken Dreams  \n",
       "3433    338130        Green Day:Are We the Waiting / St. Jimmy  \n",
       "3434    326148     Green Day:Give Me Novacaine / She's a Rebel  \n",
       "3435    436779       Green Day:Extraordinary Girl / Letterbomb  "
      ]
     },
     "execution_count": 10,
     "metadata": {},
     "output_type": "execute_result"
    }
   ],
   "source": [
    "df_streaming.tail()"
   ]
  },
  {
   "cell_type": "code",
   "execution_count": 12,
   "id": "fbebb659",
   "metadata": {},
   "outputs": [],
   "source": []
  },
  {
   "cell_type": "code",
   "execution_count": null,
   "id": "f0b2179c",
   "metadata": {},
   "outputs": [],
   "source": []
  },
  {
   "cell_type": "markdown",
   "id": "bb70f86a",
   "metadata": {},
   "source": []
  },
  {
   "cell_type": "code",
   "execution_count": 13,
   "id": "64df8a63",
   "metadata": {},
   "outputs": [
    {
     "data": {
      "application/vnd.jupyter.widget-view+json": {
       "model_id": "20fbca2a19e14210912a007d07b5e7a6",
       "version_major": 2,
       "version_minor": 0
      },
      "text/plain": [
       "MitoWidget(analysis_name='UUID-c93ec84e-ba61-4e6d-9a6e-7aab61a5e2bd', code_json='{\"imports\": \"from mitosheet i…"
      ]
     },
     "metadata": {},
     "output_type": "display_data"
    }
   ],
   "source": []
  },
  {
   "cell_type": "code",
   "execution_count": null,
   "id": "ade57101",
   "metadata": {},
   "outputs": [],
   "source": []
  },
  {
   "cell_type": "code",
   "execution_count": 42,
   "id": "11c456c1",
   "metadata": {},
   "outputs": [],
   "source": [
    "client_ID = '725b762a805c4a2aa6b60336e850051a'\n",
    "client_SECRET = 'e373fa3ee2e24395952c43087de92dcc'"
   ]
  },
  {
   "cell_type": "code",
   "execution_count": 46,
   "id": "ef8c02fb",
   "metadata": {},
   "outputs": [],
   "source": [
    "AUTH_URL = 'https://accounts.spotify.com/api/token'\n",
    "\n",
    "auth_response = requests.post(AUTH_URL, {\n",
    "    'grant_type':'client_credentials',\n",
    "    'client_id' : client_ID,\n",
    "    'client_secret' : client_SECRET,})\n",
    "\n",
    "auth_response_data = auth_response.json()\n",
    "access_token = auth_response_data['access_token']"
   ]
  },
  {
   "cell_type": "code",
   "execution_count": 51,
   "id": "bcb7a0a9",
   "metadata": {},
   "outputs": [],
   "source": [
    "headers = {'Authorization' : f'Bearer {access_token}'}"
   ]
  },
  {
   "cell_type": "code",
   "execution_count": 49,
   "id": "20a4a672",
   "metadata": {},
   "outputs": [],
   "source": [
    "BASE_URL = 'https://api.spotify.com/v1/'"
   ]
  },
  {
   "cell_type": "code",
   "execution_count": 54,
   "id": "c9377ada",
   "metadata": {},
   "outputs": [],
   "source": [
    "dict_genre = {}\n",
    "\n",
    "track_uris = df_track['new_uri'].to_list()\n",
    "\n",
    "for i in track_uris:\n",
    "    dict_genre[i] = {'artist_uri': '', 'genres':[]}\n",
    "    \n",
    "    r = requests.get(BASE_URL + 'tracks/' + i, headers=headers)\n",
    "    r = r.json()\n",
    "#     a_uri = r['artists'][0]['uri'].split(':')[2]\n",
    "#     dict_genre[i]['artist_uri'] = a_uri\n",
    "    \n",
    "#     s = requests.get(BASE_URL + 'artists/' + a_uris, headers=headers)\n",
    "#     s=s.json()\n",
    "#     dict_genre[i]['genres'] = s['genres']"
   ]
  },
  {
   "cell_type": "code",
   "execution_count": 55,
   "id": "59f203af",
   "metadata": {},
   "outputs": [
    {
     "data": {
      "text/plain": [
       "{'error': {'status': 400, 'message': 'invalid id'}}"
      ]
     },
     "execution_count": 55,
     "metadata": {},
     "output_type": "execute_result"
    }
   ],
   "source": [
    "r"
   ]
  }
 ],
 "metadata": {
  "kernelspec": {
   "display_name": "Python 3 (ipykernel)",
   "language": "python",
   "name": "python3"
  },
  "language_info": {
   "codemirror_mode": {
    "name": "ipython",
    "version": 3
   },
   "file_extension": ".py",
   "mimetype": "text/x-python",
   "name": "python",
   "nbconvert_exporter": "python",
   "pygments_lexer": "ipython3",
   "version": "3.10.2"
  }
 },
 "nbformat": 4,
 "nbformat_minor": 5
}
